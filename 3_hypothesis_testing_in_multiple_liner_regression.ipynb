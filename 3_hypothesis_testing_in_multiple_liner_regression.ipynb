{
 "cells": [
  {
   "cell_type": "code",
   "execution_count": 28,
   "metadata": {},
   "outputs": [],
   "source": [
    "import pandas as pd\n",
    "import numpy as np\n",
    "import math\n",
    "import statistics\n",
    "import scipy as sp\n",
    "from scipy import stats\n",
    "import statsmodels.api as sm\n",
    "import seaborn as sns\n",
    "\n",
    "import statsmodels.formula.api as smf\n",
    "from statsmodels.formula.api import ols\n",
    "import researchpy as rp\n",
    "from statsmodels.stats.anova import anova_lm\n"
   ]
  },
  {
   "cell_type": "markdown",
   "metadata": {},
   "source": [
    "# Topics\n",
    "\n",
    "* Plot histgram\n",
    "* Plot data and regression model\n",
    "* statsmodels.regression.linear_model.OLS\n",
    "* statsmodels : Fitting models using R-style formulas\n",
    "* Hypothesis testing in multiple liner regression\n",
    "* F-test\n",
    "* T-test\n",
    "* R-squared\n",
    "* ANOVA : sum of squares(Which variables shoud be used?)"
   ]
  },
  {
   "cell_type": "code",
   "execution_count": 11,
   "metadata": {},
   "outputs": [
    {
     "data": {
      "text/html": [
       "<div>\n",
       "<style scoped>\n",
       "    .dataframe tbody tr th:only-of-type {\n",
       "        vertical-align: middle;\n",
       "    }\n",
       "\n",
       "    .dataframe tbody tr th {\n",
       "        vertical-align: top;\n",
       "    }\n",
       "\n",
       "    .dataframe thead th {\n",
       "        text-align: right;\n",
       "    }\n",
       "</style>\n",
       "<table border=\"1\" class=\"dataframe\">\n",
       "  <thead>\n",
       "    <tr style=\"text-align: right;\">\n",
       "      <th></th>\n",
       "      <th>fixed acidity</th>\n",
       "      <th>volatile acidity</th>\n",
       "      <th>citric acid</th>\n",
       "      <th>residual sugar</th>\n",
       "      <th>chlorides</th>\n",
       "      <th>free sulfur dioxide</th>\n",
       "      <th>total sulfur dioxide</th>\n",
       "      <th>density</th>\n",
       "      <th>pH</th>\n",
       "      <th>sulphates</th>\n",
       "      <th>alcohol</th>\n",
       "      <th>quality</th>\n",
       "    </tr>\n",
       "  </thead>\n",
       "  <tbody>\n",
       "    <tr>\n",
       "      <th>0</th>\n",
       "      <td>7.8</td>\n",
       "      <td>0.600</td>\n",
       "      <td>0.26</td>\n",
       "      <td>2.0</td>\n",
       "      <td>0.080</td>\n",
       "      <td>31.0</td>\n",
       "      <td>131.0</td>\n",
       "      <td>0.99622</td>\n",
       "      <td>3.21</td>\n",
       "      <td>0.52</td>\n",
       "      <td>9.9</td>\n",
       "      <td>5</td>\n",
       "    </tr>\n",
       "    <tr>\n",
       "      <th>1</th>\n",
       "      <td>8.2</td>\n",
       "      <td>0.320</td>\n",
       "      <td>0.42</td>\n",
       "      <td>2.3</td>\n",
       "      <td>0.098</td>\n",
       "      <td>3.0</td>\n",
       "      <td>9.0</td>\n",
       "      <td>0.99506</td>\n",
       "      <td>3.27</td>\n",
       "      <td>0.55</td>\n",
       "      <td>12.3</td>\n",
       "      <td>6</td>\n",
       "    </tr>\n",
       "    <tr>\n",
       "      <th>2</th>\n",
       "      <td>8.3</td>\n",
       "      <td>0.760</td>\n",
       "      <td>0.29</td>\n",
       "      <td>4.2</td>\n",
       "      <td>0.075</td>\n",
       "      <td>12.0</td>\n",
       "      <td>16.0</td>\n",
       "      <td>0.99650</td>\n",
       "      <td>3.45</td>\n",
       "      <td>0.68</td>\n",
       "      <td>11.5</td>\n",
       "      <td>6</td>\n",
       "    </tr>\n",
       "    <tr>\n",
       "      <th>3</th>\n",
       "      <td>7.1</td>\n",
       "      <td>0.590</td>\n",
       "      <td>0.01</td>\n",
       "      <td>2.3</td>\n",
       "      <td>0.080</td>\n",
       "      <td>27.0</td>\n",
       "      <td>43.0</td>\n",
       "      <td>0.99550</td>\n",
       "      <td>3.42</td>\n",
       "      <td>0.58</td>\n",
       "      <td>10.7</td>\n",
       "      <td>6</td>\n",
       "    </tr>\n",
       "    <tr>\n",
       "      <th>4</th>\n",
       "      <td>9.3</td>\n",
       "      <td>0.775</td>\n",
       "      <td>0.27</td>\n",
       "      <td>2.8</td>\n",
       "      <td>0.078</td>\n",
       "      <td>24.0</td>\n",
       "      <td>56.0</td>\n",
       "      <td>0.99840</td>\n",
       "      <td>3.31</td>\n",
       "      <td>0.67</td>\n",
       "      <td>10.6</td>\n",
       "      <td>6</td>\n",
       "    </tr>\n",
       "    <tr>\n",
       "      <th>...</th>\n",
       "      <td>...</td>\n",
       "      <td>...</td>\n",
       "      <td>...</td>\n",
       "      <td>...</td>\n",
       "      <td>...</td>\n",
       "      <td>...</td>\n",
       "      <td>...</td>\n",
       "      <td>...</td>\n",
       "      <td>...</td>\n",
       "      <td>...</td>\n",
       "      <td>...</td>\n",
       "      <td>...</td>\n",
       "    </tr>\n",
       "    <tr>\n",
       "      <th>145</th>\n",
       "      <td>7.8</td>\n",
       "      <td>0.530</td>\n",
       "      <td>0.04</td>\n",
       "      <td>1.7</td>\n",
       "      <td>0.076</td>\n",
       "      <td>17.0</td>\n",
       "      <td>31.0</td>\n",
       "      <td>0.99640</td>\n",
       "      <td>3.33</td>\n",
       "      <td>0.56</td>\n",
       "      <td>10.0</td>\n",
       "      <td>6</td>\n",
       "    </tr>\n",
       "    <tr>\n",
       "      <th>146</th>\n",
       "      <td>6.9</td>\n",
       "      <td>0.605</td>\n",
       "      <td>0.12</td>\n",
       "      <td>10.7</td>\n",
       "      <td>0.073</td>\n",
       "      <td>40.0</td>\n",
       "      <td>83.0</td>\n",
       "      <td>0.99930</td>\n",
       "      <td>3.45</td>\n",
       "      <td>0.52</td>\n",
       "      <td>9.4</td>\n",
       "      <td>6</td>\n",
       "    </tr>\n",
       "    <tr>\n",
       "      <th>147</th>\n",
       "      <td>7.8</td>\n",
       "      <td>0.530</td>\n",
       "      <td>0.01</td>\n",
       "      <td>1.6</td>\n",
       "      <td>0.077</td>\n",
       "      <td>3.0</td>\n",
       "      <td>19.0</td>\n",
       "      <td>0.99500</td>\n",
       "      <td>3.16</td>\n",
       "      <td>0.46</td>\n",
       "      <td>9.8</td>\n",
       "      <td>5</td>\n",
       "    </tr>\n",
       "    <tr>\n",
       "      <th>148</th>\n",
       "      <td>8.0</td>\n",
       "      <td>0.580</td>\n",
       "      <td>0.16</td>\n",
       "      <td>2.0</td>\n",
       "      <td>0.120</td>\n",
       "      <td>3.0</td>\n",
       "      <td>7.0</td>\n",
       "      <td>0.99454</td>\n",
       "      <td>3.22</td>\n",
       "      <td>0.58</td>\n",
       "      <td>11.2</td>\n",
       "      <td>6</td>\n",
       "    </tr>\n",
       "    <tr>\n",
       "      <th>149</th>\n",
       "      <td>9.2</td>\n",
       "      <td>0.520</td>\n",
       "      <td>1.00</td>\n",
       "      <td>3.4</td>\n",
       "      <td>0.610</td>\n",
       "      <td>32.0</td>\n",
       "      <td>69.0</td>\n",
       "      <td>0.99960</td>\n",
       "      <td>2.74</td>\n",
       "      <td>2.00</td>\n",
       "      <td>9.4</td>\n",
       "      <td>4</td>\n",
       "    </tr>\n",
       "  </tbody>\n",
       "</table>\n",
       "<p>150 rows × 12 columns</p>\n",
       "</div>"
      ],
      "text/plain": [
       "     fixed acidity  volatile acidity  citric acid  residual sugar  chlorides  \\\n",
       "0              7.8             0.600         0.26             2.0      0.080   \n",
       "1              8.2             0.320         0.42             2.3      0.098   \n",
       "2              8.3             0.760         0.29             4.2      0.075   \n",
       "3              7.1             0.590         0.01             2.3      0.080   \n",
       "4              9.3             0.775         0.27             2.8      0.078   \n",
       "..             ...               ...          ...             ...        ...   \n",
       "145            7.8             0.530         0.04             1.7      0.076   \n",
       "146            6.9             0.605         0.12            10.7      0.073   \n",
       "147            7.8             0.530         0.01             1.6      0.077   \n",
       "148            8.0             0.580         0.16             2.0      0.120   \n",
       "149            9.2             0.520         1.00             3.4      0.610   \n",
       "\n",
       "     free sulfur dioxide  total sulfur dioxide  density    pH  sulphates  \\\n",
       "0                   31.0                 131.0  0.99622  3.21       0.52   \n",
       "1                    3.0                   9.0  0.99506  3.27       0.55   \n",
       "2                   12.0                  16.0  0.99650  3.45       0.68   \n",
       "3                   27.0                  43.0  0.99550  3.42       0.58   \n",
       "4                   24.0                  56.0  0.99840  3.31       0.67   \n",
       "..                   ...                   ...      ...   ...        ...   \n",
       "145                 17.0                  31.0  0.99640  3.33       0.56   \n",
       "146                 40.0                  83.0  0.99930  3.45       0.52   \n",
       "147                  3.0                  19.0  0.99500  3.16       0.46   \n",
       "148                  3.0                   7.0  0.99454  3.22       0.58   \n",
       "149                 32.0                  69.0  0.99960  2.74       2.00   \n",
       "\n",
       "     alcohol  quality  \n",
       "0        9.9        5  \n",
       "1       12.3        6  \n",
       "2       11.5        6  \n",
       "3       10.7        6  \n",
       "4       10.6        6  \n",
       "..       ...      ...  \n",
       "145     10.0        6  \n",
       "146      9.4        6  \n",
       "147      9.8        5  \n",
       "148     11.2        6  \n",
       "149      9.4        4  \n",
       "\n",
       "[150 rows x 12 columns]"
      ]
     },
     "execution_count": 11,
     "metadata": {},
     "output_type": "execute_result"
    }
   ],
   "source": [
    "red_sample = pd.read_csv(\"data/red_sample\")\n",
    "red_sample"
   ]
  },
  {
   "cell_type": "code",
   "execution_count": 30,
   "metadata": {},
   "outputs": [
    {
     "data": {
      "text/plain": [
       "<matplotlib.axes._subplots.AxesSubplot at 0x214df246a58>"
      ]
     },
     "execution_count": 30,
     "metadata": {},
     "output_type": "execute_result"
    },
    {
     "data": {
      "image/png": "[encoded data removed]",
      "text/plain": [
       "<Figure size 432x288 with 1 Axes>"
      ]
     },
     "metadata": {
      "needs_background": "light"
     },
     "output_type": "display_data"
    }
   ],
   "source": [
    "sns.histplot(data=red_sample, x=\"quality\", discrete=True)"
   ]
  },
  {
   "cell_type": "code",
   "execution_count": 34,
   "metadata": {},
   "outputs": [
    {
     "data": {
      "text/plain": [
       "<seaborn.axisgrid.FacetGrid at 0x214df42e5f8>"
      ]
     },
     "execution_count": 34,
     "metadata": {},
     "output_type": "execute_result"
    },
    {
     "data": {
      "image/png": "[encoded data removed]",
      "text/plain": [
       "<Figure size 360x360 with 1 Axes>"
      ]
     },
     "metadata": {
      "needs_background": "light"
     },
     "output_type": "display_data"
    }
   ],
   "source": [
    "sns.lmplot(data=red_sample,x=\"quality\",y=\"alcohol\")"
   ]
  },
  {
   "cell_type": "code",
   "execution_count": 33,
   "metadata": {},
   "outputs": [
    {
     "data": {
      "text/plain": [
       "<seaborn.axisgrid.FacetGrid at 0x214df3c32b0>"
      ]
     },
     "execution_count": 33,
     "metadata": {},
     "output_type": "execute_result"
    },
    {
     "data": {
      "image/png": "[encoded data removed]",
      "text/plain": [
       "<Figure size 360x360 with 1 Axes>"
      ]
     },
     "metadata": {
      "needs_background": "light"
     },
     "output_type": "display_data"
    }
   ],
   "source": [
    "# robust = True : This will de-weight outliers.\n",
    "\n",
    "sns.lmplot(data=red_sample,x=\"quality\",y=\"alcohol\", robust=True)"
   ]
  },
  {
   "cell_type": "code",
   "execution_count": 15,
   "metadata": {},
   "outputs": [
    {
     "data": {
      "text/html": [
       "<table class=\"simpletable\">\n",
       "<caption>OLS Regression Results</caption>\n",
       "<tr>\n",
       "  <th>Dep. Variable:</th>         <td>quality</td>     <th>  R-squared:         </th> <td>   0.203</td>\n",
       "</tr>\n",
       "<tr>\n",
       "  <th>Model:</th>                   <td>OLS</td>       <th>  Adj. R-squared:    </th> <td>   0.192</td>\n",
       "</tr>\n",
       "<tr>\n",
       "  <th>Method:</th>             <td>Least Squares</td>  <th>  F-statistic:       </th> <td>   18.74</td>\n",
       "</tr>\n",
       "<tr>\n",
       "  <th>Date:</th>             <td>Wed, 03 Feb 2021</td> <th>  Prob (F-statistic):</th> <td>5.63e-08</td>\n",
       "</tr>\n",
       "<tr>\n",
       "  <th>Time:</th>                 <td>14:33:12</td>     <th>  Log-Likelihood:    </th> <td> -146.12</td>\n",
       "</tr>\n",
       "<tr>\n",
       "  <th>No. Observations:</th>      <td>   150</td>      <th>  AIC:               </th> <td>   298.2</td>\n",
       "</tr>\n",
       "<tr>\n",
       "  <th>Df Residuals:</th>          <td>   147</td>      <th>  BIC:               </th> <td>   307.3</td>\n",
       "</tr>\n",
       "<tr>\n",
       "  <th>Df Model:</th>              <td>     2</td>      <th>                     </th>     <td> </td>   \n",
       "</tr>\n",
       "<tr>\n",
       "  <th>Covariance Type:</th>      <td>nonrobust</td>    <th>                     </th>     <td> </td>   \n",
       "</tr>\n",
       "</table>\n",
       "<table class=\"simpletable\">\n",
       "<tr>\n",
       "      <td></td>         <th>coef</th>     <th>std err</th>      <th>t</th>      <th>P>|t|</th>  <th>[0.025</th>    <th>0.975]</th>  \n",
       "</tr>\n",
       "<tr>\n",
       "  <th>const</th>     <td>    1.9501</td> <td>    0.588</td> <td>    3.318</td> <td> 0.001</td> <td>    0.789</td> <td>    3.111</td>\n",
       "</tr>\n",
       "<tr>\n",
       "  <th>sulphates</th> <td>    0.4749</td> <td>    0.282</td> <td>    1.685</td> <td> 0.094</td> <td>   -0.082</td> <td>    1.032</td>\n",
       "</tr>\n",
       "<tr>\n",
       "  <th>alcohol</th>   <td>    0.3160</td> <td>    0.054</td> <td>    5.820</td> <td> 0.000</td> <td>    0.209</td> <td>    0.423</td>\n",
       "</tr>\n",
       "</table>\n",
       "<table class=\"simpletable\">\n",
       "<tr>\n",
       "  <th>Omnibus:</th>       <td>10.513</td> <th>  Durbin-Watson:     </th> <td>   1.868</td>\n",
       "</tr>\n",
       "<tr>\n",
       "  <th>Prob(Omnibus):</th> <td> 0.005</td> <th>  Jarque-Bera (JB):  </th> <td>  23.851</td>\n",
       "</tr>\n",
       "<tr>\n",
       "  <th>Skew:</th>          <td> 0.133</td> <th>  Prob(JB):          </th> <td>6.62e-06</td>\n",
       "</tr>\n",
       "<tr>\n",
       "  <th>Kurtosis:</th>      <td> 4.935</td> <th>  Cond. No.          </th> <td>    118.</td>\n",
       "</tr>\n",
       "</table><br/><br/>Warnings:<br/>[1] Standard Errors assume that the covariance matrix of the errors is correctly specified."
      ],
      "text/plain": [
       "<class 'statsmodels.iolib.summary.Summary'>\n",
       "\"\"\"\n",
       "                            OLS Regression Results                            \n",
       "==============================================================================\n",
       "Dep. Variable:                quality   R-squared:                       0.203\n",
       "Model:                            OLS   Adj. R-squared:                  0.192\n",
       "Method:                 Least Squares   F-statistic:                     18.74\n",
       "Date:                Wed, 03 Feb 2021   Prob (F-statistic):           5.63e-08\n",
       "Time:                        14:33:12   Log-Likelihood:                -146.12\n",
       "No. Observations:                 150   AIC:                             298.2\n",
       "Df Residuals:                     147   BIC:                             307.3\n",
       "Df Model:                           2                                         \n",
       "Covariance Type:            nonrobust                                         \n",
       "==============================================================================\n",
       "                 coef    std err          t      P>|t|      [0.025      0.975]\n",
       "------------------------------------------------------------------------------\n",
       "const          1.9501      0.588      3.318      0.001       0.789       3.111\n",
       "sulphates      0.4749      0.282      1.685      0.094      -0.082       1.032\n",
       "alcohol        0.3160      0.054      5.820      0.000       0.209       0.423\n",
       "==============================================================================\n",
       "Omnibus:                       10.513   Durbin-Watson:                   1.868\n",
       "Prob(Omnibus):                  0.005   Jarque-Bera (JB):               23.851\n",
       "Skew:                           0.133   Prob(JB):                     6.62e-06\n",
       "Kurtosis:                       4.935   Cond. No.                         118.\n",
       "==============================================================================\n",
       "\n",
       "Warnings:\n",
       "[1] Standard Errors assume that the covariance matrix of the errors is correctly specified.\n",
       "\"\"\""
      ]
     },
     "metadata": {},
     "output_type": "display_data"
    }
   ],
   "source": [
    "X = red_sample[[\"sulphates\",\"alcohol\"]]\n",
    "y = red_sample['quality']\n",
    "\n",
    "X = sm.add_constant(X)\n",
    "mreg1 = sm.OLS(y, X).fit()\n",
    "display(mreg1.summary())"
   ]
  },
  {
   "cell_type": "code",
   "execution_count": 16,
   "metadata": {},
   "outputs": [
    {
     "name": "stdout",
     "output_type": "stream",
     "text": [
      "                            OLS Regression Results                            \n",
      "==============================================================================\n",
      "Dep. Variable:                quality   R-squared:                       0.203\n",
      "Model:                            OLS   Adj. R-squared:                  0.192\n",
      "Method:                 Least Squares   F-statistic:                     18.74\n",
      "Date:                Wed, 03 Feb 2021   Prob (F-statistic):           5.63e-08\n",
      "Time:                        14:33:16   Log-Likelihood:                -146.12\n",
      "No. Observations:                 150   AIC:                             298.2\n",
      "Df Residuals:                     147   BIC:                             307.3\n",
      "Df Model:                           2                                         \n",
      "Covariance Type:            nonrobust                                         \n",
      "==============================================================================\n",
      "                 coef    std err          t      P>|t|      [0.025      0.975]\n",
      "------------------------------------------------------------------------------\n",
      "Intercept      1.9501      0.588      3.318      0.001       0.789       3.111\n",
      "sulphates      0.4749      0.282      1.685      0.094      -0.082       1.032\n",
      "alcohol        0.3160      0.054      5.820      0.000       0.209       0.423\n",
      "==============================================================================\n",
      "Omnibus:                       10.513   Durbin-Watson:                   1.868\n",
      "Prob(Omnibus):                  0.005   Jarque-Bera (JB):               23.851\n",
      "Skew:                           0.133   Prob(JB):                     6.62e-06\n",
      "Kurtosis:                       4.935   Cond. No.                         118.\n",
      "==============================================================================\n",
      "\n",
      "Warnings:\n",
      "[1] Standard Errors assume that the covariance matrix of the errors is correctly specified.\n"
     ]
    }
   ],
   "source": [
    "mreg2 = smf.ols(formula='quality ~ sulphates + alcohol', data = red_sample).fit()\n",
    "print(mreg2.summary())"
   ]
  },
  {
   "cell_type": "code",
   "execution_count": 22,
   "metadata": {},
   "outputs": [
    {
     "name": "stdout",
     "output_type": "stream",
     "text": [
      "                            OLS Regression Results                            \n",
      "==============================================================================\n",
      "Dep. Variable:                quality   R-squared:                       0.203\n",
      "Model:                            OLS   Adj. R-squared:                  0.192\n",
      "Method:                 Least Squares   F-statistic:                     18.74\n",
      "Date:                Wed, 03 Feb 2021   Prob (F-statistic):           5.63e-08\n",
      "Time:                        14:38:57   Log-Likelihood:                -146.12\n",
      "No. Observations:                 150   AIC:                             298.2\n",
      "Df Residuals:                     147   BIC:                             307.3\n",
      "Df Model:                           2                                         \n",
      "Covariance Type:            nonrobust                                         \n",
      "==============================================================================\n",
      "                 coef    std err          t      P>|t|      [0.025      0.975]\n",
      "------------------------------------------------------------------------------\n",
      "Intercept      1.9501      0.588      3.318      0.001       0.789       3.111\n",
      "alcohol        0.3160      0.054      5.820      0.000       0.209       0.423\n",
      "sulphates      0.4749      0.282      1.685      0.094      -0.082       1.032\n",
      "==============================================================================\n",
      "Omnibus:                       10.513   Durbin-Watson:                   1.868\n",
      "Prob(Omnibus):                  0.005   Jarque-Bera (JB):               23.851\n",
      "Skew:                           0.133   Prob(JB):                     6.62e-06\n",
      "Kurtosis:                       4.935   Cond. No.                         118.\n",
      "==============================================================================\n",
      "\n",
      "Warnings:\n",
      "[1] Standard Errors assume that the covariance matrix of the errors is correctly specified.\n"
     ]
    }
   ],
   "source": [
    "# different order from mreg2\n",
    "\n",
    "mreg3 = smf.ols(formula='quality ~ alcohol + sulphates', data = red_sample).fit()\n",
    "print(mreg3.summary())"
   ]
  },
  {
   "cell_type": "code",
   "execution_count": null,
   "metadata": {},
   "outputs": [],
   "source": []
  },
  {
   "cell_type": "markdown",
   "metadata": {},
   "source": [
    "# Hypothesis testing in multiple liner regression \n",
    "\n",
    "* Ho: Beta1 = Beta2 = 0 (zero) \n",
    "* Ha: At least one of Beta is NOT 0 (zero)\n",
    "\n",
    "\n",
    "* **It compares a model with no predictors (in this case, no alcohol and no sulphates), referred to as the intercept-only model, to the specified model (inclusive of those two predictors listed above).**\n",
    "* The null hypothesis is that **“all the regression coefficients are equal to zero”**, and the alternative hypothesis is that **\"the intercept-only model is worse than the model with 2 independent variables\"**.\n",
    "\n",
    "* Intercept is a y value (on y-axis) when x-axis is zero. \n",
    "* Beta 1,2 are slopes (coefficients)\n",
    "* F-statistic is never below zero. It is alawys positive value.\n",
    "\n",
    "# Interpret the result \n",
    "\n",
    "#### F-test\n",
    "* the p-value of the F-statistic is listed as **Prob (F-statistic)**. This is to assess the **significance level of all the variables together**.\n",
    "* **Prob (F-statistic)** is **the probability that the null hypothesis for the full model is true.** Given these p-values(5.63e-08) are approximately zero, **reject the null**. \n",
    "\n",
    "* **There is evidence that there is a linear relationship between quality, and the set of predictors (alcohol and sulphates)**. Since the F-test only accounts for the target variable and **the set of all predictor variables, not considering the individual effects of each predictor**, it requres a separated t-test to find out indivisual effects of two independent variables.\n",
    "\n",
    "#### T-test\n",
    "* It looks at a relationship between indivisual independent varible and dependent variable. Alcohol vs quality, sulphates vs quality, for example. \n",
    "#### T-test for alcohol\n",
    "* As p-value shows 0.000(less than 0.000), it is considered to be extremely statistically significant.\n",
    "#### T-test for sulphates\n",
    "* As p-value shows 0.094(The two-tailed P value equals 0.0941), it is considered to be NOT quite statistically significant.\n",
    "\n",
    "#### R-squared\n",
    "* 20.3% of variabilty in quality is explained by alcohol and sulpthates. \n",
    "* note: The regression’s R-squared **tends to rise as more and more variables are added, even if they have no significant contribution**.\n",
    "\n",
    "\n",
    "\n",
    "\n",
    "# Colcultion\n",
    "* **Reject Ho.**\n",
    "#### Details\n",
    "* **F-test : Reject Ho**\n",
    "* **T-test for alcohol : Reject Ho**\n",
    "* **T-test for sulphates : Failed to reject Ho**\n"
   ]
  },
  {
   "cell_type": "code",
   "execution_count": null,
   "metadata": {},
   "outputs": [],
   "source": []
  },
  {
   "cell_type": "markdown",
   "metadata": {},
   "source": [
    "https://ckhoward.github.io/post/chapter9multiple-regression-and-model-building/\n",
    "https://medium.com/@rrfd/f-tests-and-anovas-examples-with-the-iris-dataset-fe7caa3e21d0"
   ]
  },
  {
   "cell_type": "code",
   "execution_count": null,
   "metadata": {},
   "outputs": [],
   "source": []
  },
  {
   "cell_type": "markdown",
   "metadata": {},
   "source": [
    "# Which variables shoud be used?"
   ]
  },
  {
   "cell_type": "code",
   "execution_count": 26,
   "metadata": {},
   "outputs": [
    {
     "name": "stdout",
     "output_type": "stream",
     "text": [
      "anova_results 2\n"
     ]
    },
    {
     "data": {
      "text/html": [
       "<div>\n",
       "<style scoped>\n",
       "    .dataframe tbody tr th:only-of-type {\n",
       "        vertical-align: middle;\n",
       "    }\n",
       "\n",
       "    .dataframe tbody tr th {\n",
       "        vertical-align: top;\n",
       "    }\n",
       "\n",
       "    .dataframe thead th {\n",
       "        text-align: right;\n",
       "    }\n",
       "</style>\n",
       "<table border=\"1\" class=\"dataframe\">\n",
       "  <thead>\n",
       "    <tr style=\"text-align: right;\">\n",
       "      <th></th>\n",
       "      <th>df</th>\n",
       "      <th>sum_sq</th>\n",
       "      <th>mean_sq</th>\n",
       "      <th>F</th>\n",
       "      <th>PR(&gt;F)</th>\n",
       "    </tr>\n",
       "  </thead>\n",
       "  <tbody>\n",
       "    <tr>\n",
       "      <th>sulphates</th>\n",
       "      <td>1.0</td>\n",
       "      <td>1.513417</td>\n",
       "      <td>1.513417</td>\n",
       "      <td>3.610318</td>\n",
       "      <td>5.938028e-02</td>\n",
       "    </tr>\n",
       "    <tr>\n",
       "      <th>alcohol</th>\n",
       "      <td>1.0</td>\n",
       "      <td>14.198676</td>\n",
       "      <td>14.198676</td>\n",
       "      <td>33.871523</td>\n",
       "      <td>3.552841e-08</td>\n",
       "    </tr>\n",
       "    <tr>\n",
       "      <th>Residual</th>\n",
       "      <td>147.0</td>\n",
       "      <td>61.621241</td>\n",
       "      <td>0.419192</td>\n",
       "      <td>NaN</td>\n",
       "      <td>NaN</td>\n",
       "    </tr>\n",
       "  </tbody>\n",
       "</table>\n",
       "</div>"
      ],
      "text/plain": [
       "              df     sum_sq    mean_sq          F        PR(>F)\n",
       "sulphates    1.0   1.513417   1.513417   3.610318  5.938028e-02\n",
       "alcohol      1.0  14.198676  14.198676  33.871523  3.552841e-08\n",
       "Residual   147.0  61.621241   0.419192        NaN           NaN"
      ]
     },
     "metadata": {},
     "output_type": "display_data"
    },
    {
     "name": "stdout",
     "output_type": "stream",
     "text": [
      "anova_results 3\n"
     ]
    },
    {
     "data": {
      "text/html": [
       "<div>\n",
       "<style scoped>\n",
       "    .dataframe tbody tr th:only-of-type {\n",
       "        vertical-align: middle;\n",
       "    }\n",
       "\n",
       "    .dataframe tbody tr th {\n",
       "        vertical-align: top;\n",
       "    }\n",
       "\n",
       "    .dataframe thead th {\n",
       "        text-align: right;\n",
       "    }\n",
       "</style>\n",
       "<table border=\"1\" class=\"dataframe\">\n",
       "  <thead>\n",
       "    <tr style=\"text-align: right;\">\n",
       "      <th></th>\n",
       "      <th>df</th>\n",
       "      <th>sum_sq</th>\n",
       "      <th>mean_sq</th>\n",
       "      <th>F</th>\n",
       "      <th>PR(&gt;F)</th>\n",
       "    </tr>\n",
       "  </thead>\n",
       "  <tbody>\n",
       "    <tr>\n",
       "      <th>alcohol</th>\n",
       "      <td>1.0</td>\n",
       "      <td>14.521738</td>\n",
       "      <td>14.521738</td>\n",
       "      <td>34.642202</td>\n",
       "      <td>2.577149e-08</td>\n",
       "    </tr>\n",
       "    <tr>\n",
       "      <th>sulphates</th>\n",
       "      <td>1.0</td>\n",
       "      <td>1.190355</td>\n",
       "      <td>1.190355</td>\n",
       "      <td>2.839640</td>\n",
       "      <td>9.408660e-02</td>\n",
       "    </tr>\n",
       "    <tr>\n",
       "      <th>Residual</th>\n",
       "      <td>147.0</td>\n",
       "      <td>61.621241</td>\n",
       "      <td>0.419192</td>\n",
       "      <td>NaN</td>\n",
       "      <td>NaN</td>\n",
       "    </tr>\n",
       "  </tbody>\n",
       "</table>\n",
       "</div>"
      ],
      "text/plain": [
       "              df     sum_sq    mean_sq          F        PR(>F)\n",
       "alcohol      1.0  14.521738  14.521738  34.642202  2.577149e-08\n",
       "sulphates    1.0   1.190355   1.190355   2.839640  9.408660e-02\n",
       "Residual   147.0  61.621241   0.419192        NaN           NaN"
      ]
     },
     "metadata": {},
     "output_type": "display_data"
    }
   ],
   "source": [
    "anova_results2 = anova_lm(mreg2)\n",
    "anova_results3 = anova_lm(mreg3)\n",
    "print(\"anova_results 2\")\n",
    "display(anova_results2)\n",
    "print(\"anova_results 3\")\n",
    "display(anova_results3)"
   ]
  },
  {
   "cell_type": "markdown",
   "metadata": {},
   "source": [
    "#### Which variables shoud be used for liner regression model? \n",
    "* Sequential sum of squares **(sum_sq) is a useful procedure for choosing which variables to use** in a model, and an analysis of variance (ANOVA) will give us the sums of squares per each predictor that we need to do it. \n",
    "\n",
    "* Sequential sum of squares (sum_sq) for alcohol is 14.52 on \"anova_results 3\" , and that represents the variability in the quality rating that is explained by the linear relationship between quality and alcohol content. \n",
    "* The second sequential sum of squares, for sulphates content, 1.19, given that the variability explained by alcohol has already been extracted. In other words, **to list more definitive variables first (like alcohol), and the less-sure variables towards the end (like sulpathes)**."
   ]
  },
  {
   "cell_type": "code",
   "execution_count": null,
   "metadata": {},
   "outputs": [],
   "source": []
  }
 ],
 "metadata": {
  "kernelspec": {
   "display_name": "Python 3",
   "language": "python",
   "name": "python3"
  },
  "language_info": {
   "codemirror_mode": {
    "name": "ipython",
    "version": 3
   },
   "file_extension": ".py",
   "mimetype": "text/x-python",
   "name": "python",
   "nbconvert_exporter": "python",
   "pygments_lexer": "ipython3",
   "version": "3.7.1"
  }
 },
 "nbformat": 4,
 "nbformat_minor": 4
}
